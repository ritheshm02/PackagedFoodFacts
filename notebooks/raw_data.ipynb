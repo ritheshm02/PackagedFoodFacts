{
 "cells": [
  {
   "cell_type": "markdown",
   "id": "4413f84e-4868-4a7e-8927-a39a4fdc2c13",
   "metadata": {},
   "source": [
    "# OpenFoodFacts(OFF) Dataset Cleaning"
   ]
  },
  {
   "cell_type": "code",
   "execution_count": 1,
   "id": "d7071192-8452-4d14-b04c-2a03e041d894",
   "metadata": {},
   "outputs": [
    {
     "name": "stdout",
     "output_type": "stream",
     "text": [
      "            code  lc product_name_aa product_name_am product_name_ar  \\\n",
      "0  8901719111396  en             NaN             NaN             NaN   \n",
      "1  8908002373370  en             NaN             NaN             NaN   \n",
      "2  8901207001123  en             NaN             NaN             NaN   \n",
      "3  8904063214324  en             NaN             NaN             NaN   \n",
      "4         709358  en             NaN             NaN             NaN   \n",
      "\n",
      "  product_name_bn product_name_ca product_name_de product_name_el  \\\n",
      "0             NaN             NaN             NaN             NaN   \n",
      "1             NaN             NaN             NaN             NaN   \n",
      "2             NaN             NaN             NaN             NaN   \n",
      "3             NaN             NaN             NaN             NaN   \n",
      "4             NaN             NaN             NaN             NaN   \n",
      "\n",
      "          product_name_en  ...  \\\n",
      "0                     NaN  ...   \n",
      "1                 Aajhree  ...   \n",
      "2             coconut oil  ...   \n",
      "3  Haldiram navratan 440g  ...   \n",
      "4  Patanjali Chyawanprash  ...   \n",
      "\n",
      "  sources_fields:org-database-usda:publication_date  \\\n",
      "0                                               NaN   \n",
      "1                                               NaN   \n",
      "2                                               NaN   \n",
      "3                                               NaN   \n",
      "4                                               NaN   \n",
      "\n",
      "  sources_fields:org-gs1:gln sources_fields:org-gs1:gpcCategoryCode  \\\n",
      "0                        NaN                                    NaN   \n",
      "1                        NaN                                    NaN   \n",
      "2                        NaN                                    NaN   \n",
      "3                        NaN                                    NaN   \n",
      "4                        NaN                                    NaN   \n",
      "\n",
      "  sources_fields:org-gs1:gpcCategoryName  \\\n",
      "0                                    NaN   \n",
      "1                                    NaN   \n",
      "2                                    NaN   \n",
      "3                                    NaN   \n",
      "4                                    NaN   \n",
      "\n",
      "   sources_fields:org-gs1:isAllergenRelevantDataProvided  \\\n",
      "0                                                NaN       \n",
      "1                                                NaN       \n",
      "2                                                NaN       \n",
      "3                                                NaN       \n",
      "4                                                NaN       \n",
      "\n",
      "  sources_fields:org-gs1:lastChangeDateTime sources_fields:org-gs1:partyName  \\\n",
      "0                                       NaN                              NaN   \n",
      "1                                       NaN                              NaN   \n",
      "2                                       NaN                              NaN   \n",
      "3                                       NaN                              NaN   \n",
      "4                                       NaN                              NaN   \n",
      "\n",
      "  sources_fields:org-gs1:productionVariantDescription  \\\n",
      "0                                                NaN    \n",
      "1                                                NaN    \n",
      "2                                                NaN    \n",
      "3                                                NaN    \n",
      "4                                                NaN    \n",
      "\n",
      "  sources_fields:org-gs1:publicationDateTime                 data_sources  \n",
      "0                                        NaN                          NaN  \n",
      "1                                        NaN                          NaN  \n",
      "2                                        NaN  App - Open Food Facts, Apps  \n",
      "3                                        NaN                          NaN  \n",
      "4                                        NaN  App - Open Food Facts, Apps  \n",
      "\n",
      "[5 rows x 399 columns]\n"
     ]
    }
   ],
   "source": [
    "import pandas as pd\n",
    "\n",
    "try:\n",
    "    data = pd.read_csv('../data/openfoodfacts_export_c.csv', sep='\\t', low_memory = False)\n",
    "\n",
    "    print(data.head())\n",
    "except pd.errors.ParserError as e:\n",
    "    print(f\"ParserError: {e}\")\n",
    "except FileNotFoundError as e:\n",
    "    print(f\"FileNotFoundError: {e}\")\n",
    "except Exception as e:\n",
    "    print(f\"An error occurred: {e}\")\n"
   ]
  },
  {
   "cell_type": "code",
   "execution_count": 2,
   "id": "be7c3782-1bba-4e3a-96d1-506cb15b24e3",
   "metadata": {},
   "outputs": [],
   "source": [
    "extra_product_names = ['product_name_aa','product_name_am','product_name_ar','product_name_bn','product_name_ca','product_name_de','product_name_el','product_name_es','product_name_eo','product_name_et','product_name_fa','product_name_fi','product_name_fr','product_name_gu','product_name_he','product_name_hi','product_name_hu','product_name_id','product_name_in','product_name_it','product_name_kn','product_name_ml','product_name_mr','product_name_nb','product_name_ne','product_name_nl','product_name_pl','product_name_pt','product_name_ru','product_name_te','product_name_th','product_name_xx']\n",
    "data[extra_product_names].isnull().sum()\n",
    "data.drop(extra_product_names, axis=1, inplace = True)"
   ]
  },
  {
   "cell_type": "code",
   "execution_count": 3,
   "id": "82d2a7ba-641d-466c-abb9-b90ca5e44d1c",
   "metadata": {},
   "outputs": [],
   "source": [
    "extra_generic_names = ['generic_name_bg','generic_name_da','generic_name_de','generic_name_es','generic_name_et','generic_name_fr','generic_name_hi','generic_name_hr','generic_name_hu','generic_name_lt','generic_name_nl','generic_name_pl','generic_name_ro','generic_name_sl','generic_name_sr']\n",
    "data[extra_generic_names].isnull().sum()\n",
    "data.drop(extra_generic_names,axis=1,inplace = True)"
   ]
  },
  {
   "cell_type": "code",
   "execution_count": 4,
   "id": "f0f70547-69e2-40bb-97b8-c948615f6aa5",
   "metadata": {
    "scrolled": true
   },
   "outputs": [],
   "source": [
    "extra_ingredients = ['ingredients_text_bg','ingredients_text_ar','ingredients_text_de','ingredients_text_el','ingredients_text_es','ingredients_text_et','ingredients_text_fr','ingredients_text_gu','ingredients_text_hi','ingredients_text_hr','ingredients_text_hu','ingredients_text_id','ingredients_text_it','ingredients_text_lt','ingredients_text_nl','ingredients_text_pl','ingredients_text_ro','ingredients_text_sl','ingredients_text_sr','ingredients_text_te','ingredients_text_th']\n",
    "data[extra_ingredients].isnull().sum()\n",
    "data.drop(extra_ingredients, axis = 1, inplace = True)"
   ]
  },
  {
   "cell_type": "code",
   "execution_count": 5,
   "id": "69754bb6-66f9-4718-9729-0ff211751c3e",
   "metadata": {},
   "outputs": [],
   "source": [
    "extra_prepared_values = ['energy-kj_prepared_value','energy-kj_prepared_unit','energy-kcal_prepared_value','energy-kcal_prepared_unit','fat_prepared_unit','fat_prepared_value','saturated-fat_prepared_value','saturated-fat_prepared_unit','carbohydrates_prepared_unit','carbohydrates_prepared_value','sugars_prepared_value','sugars_prepared_unit','fiber_prepared_value','fiber_prepared_unit','proteins_prepared_value','proteins_prepared_unit','sodium_prepared_value','sodium_prepared_unit','salt_prepared_value','salt_prepared_unit','alcohol_prepared_value','alcohol_prepared_unit','energy_prepared_value','energy_prepared_unit']\n",
    "data[extra_prepared_values].isnull().sum()\n",
    "data.drop(extra_prepared_values, axis = 1, inplace = True)"
   ]
  },
  {
   "cell_type": "code",
   "execution_count": 6,
   "id": "b9bc9858-699a-4d41-afb8-83d5f1e1b977",
   "metadata": {},
   "outputs": [],
   "source": [
    "extra_attributes = ['lc','abbreviated_product_name_fr','brands_tags','categories_tags','labels_tags','countries_tags','obsolete','origin_en','manufacturing_places','manufacturing_places_tags','emb_codes_tags','ingredients_text_da','allergens_tags','brand_owner','stores','stores_tags','origins_tags','brand_owner','packaging','packaging_tags','obsolete_since_date','origin_as','origin_fr','emb_codes','traces','traces_tags', 'inositol_prepared_value','packaging_1_number_of_units', ]\n",
    "data[extra_attributes].isnull().sum()\n",
    "data.drop(extra_attributes,axis = 1, inplace = True)"
   ]
  },
  {
   "cell_type": "code",
   "execution_count": 7,
   "id": "f7938801-08a4-4707-8826-6aa2fd757785",
   "metadata": {},
   "outputs": [],
   "source": [
    "extra_sources = ['sources_fields:org-gs1:publicationDateTime','sources_fields:org-gs1:productionVariantDescription','sources_fields:org-gs1:partyName','sources_fields:org-gs1:lastChangeDateTime','sources_fields:org-gs1:isAllergenRelevantDataProvided','sources_fields:org-gs1:gpcCategoryName','sources_fields:org-gs1:gpcCategoryCode','sources_fields:org-gs1:gln','sources_fields:org-database-usda:publication_date','sources_fields:org-database-usda:modified_date','sources_fields:org-database-usda:fdc_id','sources_fields:org-database-usda:fdc_data_source','sources_fields:org-database-usda:fdc_category','sources_fields:org-database-usda:available_date']\n",
    "data[extra_sources].isnull().sum()\n",
    "data.drop(extra_sources, axis = 1, inplace = True)"
   ]
  },
  {
   "cell_type": "code",
   "execution_count": 8,
   "id": "27a3a941-eb85-417b-8a53-fa1fbde45fa8",
   "metadata": {},
   "outputs": [],
   "source": [
    "packaging_attributes = ['packaging_1_shape','packaging_1_recycling', 'packaging_1_quantity_per_unit','packaging_1_weight_measured','packaging_2_number_of_units','packaging_2_shape','packaging_2_recycling', 'packaging_2_material','packaging_2_quantity_per_unit','packaging_2_weight_measured','packaging_3_number_of_units','packaging_3_shape','packaging_3_recycling', 'packaging_3_material','packaging_3_quantity_per_unit','packaging_4_shape','packaging_4_material','packaging_4_quantity_per_unit','packaging_5_shape','packaging_6_shape','packaging_6_quantity_per_unit','conservation_conditions_fr','preparation_fr','customer_service_fr','link']\n",
    "data[packaging_attributes].isnull().sum()\n",
    "data.drop(packaging_attributes, axis = 1, inplace=True)"
   ]
  },
  {
   "cell_type": "code",
   "execution_count": 9,
   "id": "b1be3912-da9b-4e74-af34-4dc56a2b8748",
   "metadata": {},
   "outputs": [],
   "source": [
    "ecoscore_attributes = ['off:nova_groups','off:nova_groups_tags','off:ecoscore_data.missing_key_data','off:ecoscore_data.agribalyse.code','off:ecoscore_data.adjustments.origins_of_ingredients.value','off:ecoscore_data.adjustments.packaging.value','off:ecoscore_data.adjustments.packaging.non_recyclable_and_non_biodegradable_materials','off:ecoscore_data.adjustments.production_system.value','off:ecoscore_data.adjustments.threatened_species.value','data_sources']\n",
    "data[ecoscore_attributes].isnull().sum()\n",
    "data.drop(ecoscore_attributes, axis = 1, inplace = True)"
   ]
  },
  {
   "cell_type": "code",
   "execution_count": 10,
   "id": "1f6eaf9e-b51b-4a57-b366-9fe20243ad5e",
   "metadata": {},
   "outputs": [],
   "source": [
    "ingredients_attributes = ['energy-from-fat_value', 'energy-from-fat_unit', 'myristic-acid_value','myristic-acid_unit', 'stearic-acid_value', 'stearic-acid_unit','arachidic-acid_value', 'arachidic-acid_unit', 'unsaturated-fat_value','unsaturated-fat_unit', 'monounsaturated-fat_value','monounsaturated-fat_unit', 'polyunsaturated-fat_value','polyunsaturated-fat_unit', 'omega-3-fat_value', 'omega-3-fat_unit','omega-6-fat_value', 'omega-6-fat_unit', 'alpha-linolenic-acid_value','alpha-linolenic-acid_unit', 'eicosapentaenoic-acid_value','eicosapentaenoic-acid_unit', 'docosahexaenoic-acid_value','docosahexaenoic-acid_unit', 'linoleic-acid_value','linoleic-acid_unit', 'gondoic-acid_value', 'gondoic-acid_unit','mead-acid_value', 'mead-acid_unit', 'trans-fat_value','trans-fat_unit', 'trans-fat_prepared_value', 'trans-fat_prepared_unit','cholesterol_value', 'cholesterol_unit', 'cholesterol_prepared_value','cholesterol_prepared_unit', 'added-sugars_value', 'added-sugars_unit','added-sugars_prepared_value', 'added-sugars_prepared_unit','sucrose_value', 'sucrose_unit', 'lactose_value', 'lactose_unit','polyols_value', 'polyols_unit', 'soluble-fiber_value','soluble-fiber_unit', 'insoluble-fiber_value', 'insoluble-fiber_unit','casein_value', 'casein_unit', 'serum-proteins_value','serum-proteins_unit', 'added-salt_value', 'added-salt_unit','vitamin-a_value', 'vitamin-a_unit', 'vitamin-a_prepared_value']\n",
    "data[ingredients_attributes].isnull().sum()\n",
    "ingredients_attributes = ['energy-from-fat_value', 'energy-from-fat_unit', 'myristic-acid_value','myristic-acid_unit', 'stearic-acid_value', 'stearic-acid_unit','arachidic-acid_value', 'arachidic-acid_unit', 'unsaturated-fat_value','unsaturated-fat_unit', 'monounsaturated-fat_value','monounsaturated-fat_unit', 'polyunsaturated-fat_value','polyunsaturated-fat_unit', 'omega-3-fat_value', 'omega-3-fat_unit','omega-6-fat_value', 'omega-6-fat_unit', 'alpha-linolenic-acid_value','alpha-linolenic-acid_unit', 'eicosapentaenoic-acid_value','eicosapentaenoic-acid_unit', 'docosahexaenoic-acid_value','docosahexaenoic-acid_unit', 'linoleic-acid_value','linoleic-acid_unit', 'gondoic-acid_value', 'gondoic-acid_unit','mead-acid_value', 'mead-acid_unit', 'trans-fat_value','trans-fat_unit', 'trans-fat_prepared_value', 'trans-fat_prepared_unit','cholesterol_value', 'cholesterol_unit', 'cholesterol_prepared_value','cholesterol_prepared_unit', 'added-sugars_value', 'added-sugars_unit','added-sugars_prepared_value', 'added-sugars_prepared_unit','sucrose_value', 'sucrose_unit', 'lactose_value', 'lactose_unit','polyols_value', 'polyols_unit', 'soluble-fiber_value','soluble-fiber_unit', 'insoluble-fiber_value', 'insoluble-fiber_unit','casein_value', 'casein_unit', 'serum-proteins_value','serum-proteins_unit', 'added-salt_value', 'added-salt_unit','vitamin-a_value', 'vitamin-a_unit', 'vitamin-a_prepared_value']"
   ]
  },
  {
   "cell_type": "code",
   "execution_count": 11,
   "id": "e297bbc7-f3da-414b-a3ab-ec03df7f3819",
   "metadata": {},
   "outputs": [],
   "source": [
    "attribute_list = data.columns.tolist()"
   ]
  },
  {
   "cell_type": "code",
   "execution_count": 12,
   "id": "4cc91cd7-4a94-4311-9fd9-c6ea43dc5869",
   "metadata": {},
   "outputs": [
    {
     "data": {
      "text/plain": [
       "7692"
      ]
     },
     "execution_count": 12,
     "metadata": {},
     "output_type": "execute_result"
    }
   ],
   "source": [
    "data['mead-acid_value'].isnull().sum()"
   ]
  },
  {
   "cell_type": "code",
   "execution_count": 13,
   "id": "394a618c-ee8b-4330-80be-a9aecce2f4cf",
   "metadata": {},
   "outputs": [],
   "source": [
    "data['product_name_en'].isnull().sum()\n",
    "data = data.dropna(subset=['product_name_en'])"
   ]
  },
  {
   "cell_type": "code",
   "execution_count": 14,
   "id": "bd429741-8992-4c66-bc17-a72c174d266e",
   "metadata": {},
   "outputs": [
    {
     "data": {
      "text/plain": [
       "(5574, 231)"
      ]
     },
     "execution_count": 14,
     "metadata": {},
     "output_type": "execute_result"
    }
   ],
   "source": [
    "data.shape"
   ]
  },
  {
   "cell_type": "code",
   "execution_count": 15,
   "id": "cf066a87-d588-46ec-a809-20c0bf0a43e2",
   "metadata": {},
   "outputs": [],
   "source": [
    "# data.to_csv('cleaned_data4.csv', index = False)"
   ]
  },
  {
   "cell_type": "code",
   "execution_count": 18,
   "id": "70c1b392-788e-49bc-9a67-1c243cdebc47",
   "metadata": {},
   "outputs": [],
   "source": [
    "data.drop(columns = [ 'packaging_1_material', 'off:food_groups', 'off:food_groups_tags', 'off:nutriscore_grade', 'off:nutriscore_score', 'off:ecoscore_grade', 'off:ecoscore_score'], inplace = True)"
   ]
  },
  {
   "cell_type": "code",
   "execution_count": 38,
   "id": "226d059d-7bd4-402a-a99e-296deaa2fca4",
   "metadata": {},
   "outputs": [],
   "source": [
    "non_null_counts = data.notna().sum(axis=1)\n",
    "\n",
    "# Filter rows with less than 10 non-null values\n",
    "rows_with_less_than_10_non_nulls = data[non_null_counts <= 7]\n",
    "\n",
    "# Get the number of such rows\n",
    "count_rows_with_less_than_10_non_nulls = rows_with_less_than_10_non_nulls.shape[0]"
   ]
  },
  {
   "cell_type": "code",
   "execution_count": 39,
   "id": "65754be8-5567-4d0e-9f30-05e89e9bb43f",
   "metadata": {},
   "outputs": [
    {
     "data": {
      "text/plain": [
       "1716"
      ]
     },
     "execution_count": 39,
     "metadata": {},
     "output_type": "execute_result"
    }
   ],
   "source": [
    "count_rows_with_less_than_10_non_nulls"
   ]
  },
  {
   "cell_type": "code",
   "execution_count": null,
   "id": "2d06e0ea-bf0a-47f1-b410-e360c8d8f96c",
   "metadata": {},
   "outputs": [],
   "source": []
  }
 ],
 "metadata": {
  "kernelspec": {
   "display_name": "Python 3 (ipykernel)",
   "language": "python",
   "name": "python3"
  },
  "language_info": {
   "codemirror_mode": {
    "name": "ipython",
    "version": 3
   },
   "file_extension": ".py",
   "mimetype": "text/x-python",
   "name": "python",
   "nbconvert_exporter": "python",
   "pygments_lexer": "ipython3",
   "version": "3.11.9"
  }
 },
 "nbformat": 4,
 "nbformat_minor": 5
}
